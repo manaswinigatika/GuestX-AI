{
 "cells": [
  {
   "cell_type": "code",
   "execution_count": 1,
   "id": "0f382420-0eea-4579-8a58-ce3fe782d2cb",
   "metadata": {},
   "outputs": [
    {
     "name": "stdout",
     "output_type": "stream",
     "text": [
      "Collecting together\n",
      "  Using cached together-1.4.1-py3-none-any.whl.metadata (12 kB)\n",
      "Requirement already satisfied: aiohttp<4.0.0,>=3.9.3 in c:\\users\\vinni\\anaconda3\\lib\\site-packages (from together) (3.9.5)\n",
      "Requirement already satisfied: click<9.0.0,>=8.1.7 in c:\\users\\vinni\\anaconda3\\lib\\site-packages (from together) (8.1.7)\n",
      "Requirement already satisfied: eval-type-backport<0.3.0,>=0.1.3 in c:\\users\\vinni\\anaconda3\\lib\\site-packages (from together) (0.2.2)\n",
      "Requirement already satisfied: filelock<4.0.0,>=3.13.1 in c:\\users\\vinni\\anaconda3\\lib\\site-packages (from together) (3.13.1)\n",
      "Requirement already satisfied: numpy>=1.26.0 in c:\\users\\vinni\\anaconda3\\lib\\site-packages (from together) (1.26.4)\n",
      "Requirement already satisfied: pillow<12.0.0,>=11.1.0 in c:\\users\\vinni\\anaconda3\\lib\\site-packages (from together) (11.1.0)\n",
      "Requirement already satisfied: pyarrow>=10.0.1 in c:\\users\\vinni\\anaconda3\\lib\\site-packages (from together) (14.0.2)\n",
      "Collecting pydantic<3.0.0,>=2.6.3 (from together)\n",
      "  Using cached pydantic-2.10.6-py3-none-any.whl.metadata (30 kB)\n",
      "Requirement already satisfied: requests<3.0.0,>=2.31.0 in c:\\users\\vinni\\anaconda3\\lib\\site-packages (from together) (2.32.2)\n",
      "Requirement already satisfied: rich<14.0.0,>=13.8.1 in c:\\users\\vinni\\anaconda3\\lib\\site-packages (from together) (13.9.4)\n",
      "Requirement already satisfied: tabulate<0.10.0,>=0.9.0 in c:\\users\\vinni\\anaconda3\\lib\\site-packages (from together) (0.9.0)\n",
      "Requirement already satisfied: tqdm<5.0.0,>=4.66.2 in c:\\users\\vinni\\anaconda3\\lib\\site-packages (from together) (4.66.4)\n",
      "Collecting typer<0.16,>=0.9 (from together)\n",
      "  Using cached typer-0.15.2-py3-none-any.whl.metadata (15 kB)\n",
      "Requirement already satisfied: aiosignal>=1.1.2 in c:\\users\\vinni\\anaconda3\\lib\\site-packages (from aiohttp<4.0.0,>=3.9.3->together) (1.2.0)\n",
      "Requirement already satisfied: attrs>=17.3.0 in c:\\users\\vinni\\anaconda3\\lib\\site-packages (from aiohttp<4.0.0,>=3.9.3->together) (23.1.0)\n",
      "Requirement already satisfied: frozenlist>=1.1.1 in c:\\users\\vinni\\anaconda3\\lib\\site-packages (from aiohttp<4.0.0,>=3.9.3->together) (1.4.0)\n",
      "Requirement already satisfied: multidict<7.0,>=4.5 in c:\\users\\vinni\\anaconda3\\lib\\site-packages (from aiohttp<4.0.0,>=3.9.3->together) (6.0.4)\n",
      "Requirement already satisfied: yarl<2.0,>=1.0 in c:\\users\\vinni\\anaconda3\\lib\\site-packages (from aiohttp<4.0.0,>=3.9.3->together) (1.9.3)\n",
      "Requirement already satisfied: colorama in c:\\users\\vinni\\anaconda3\\lib\\site-packages (from click<9.0.0,>=8.1.7->together) (0.4.6)\n",
      "Requirement already satisfied: annotated-types>=0.6.0 in c:\\users\\vinni\\anaconda3\\lib\\site-packages (from pydantic<3.0.0,>=2.6.3->together) (0.6.0)\n",
      "Collecting pydantic-core==2.27.2 (from pydantic<3.0.0,>=2.6.3->together)\n",
      "  Using cached pydantic_core-2.27.2-cp312-cp312-win_amd64.whl.metadata (6.7 kB)\n",
      "Requirement already satisfied: typing-extensions>=4.12.2 in c:\\users\\vinni\\anaconda3\\lib\\site-packages (from pydantic<3.0.0,>=2.6.3->together) (4.12.2)\n",
      "Requirement already satisfied: charset-normalizer<4,>=2 in c:\\users\\vinni\\anaconda3\\lib\\site-packages (from requests<3.0.0,>=2.31.0->together) (2.0.4)\n",
      "Requirement already satisfied: idna<4,>=2.5 in c:\\users\\vinni\\anaconda3\\lib\\site-packages (from requests<3.0.0,>=2.31.0->together) (3.7)\n",
      "Requirement already satisfied: urllib3<3,>=1.21.1 in c:\\users\\vinni\\anaconda3\\lib\\site-packages (from requests<3.0.0,>=2.31.0->together) (2.2.2)\n",
      "Requirement already satisfied: certifi>=2017.4.17 in c:\\users\\vinni\\anaconda3\\lib\\site-packages (from requests<3.0.0,>=2.31.0->together) (2024.7.4)\n",
      "Requirement already satisfied: markdown-it-py>=2.2.0 in c:\\users\\vinni\\anaconda3\\lib\\site-packages (from rich<14.0.0,>=13.8.1->together) (2.2.0)\n",
      "Requirement already satisfied: pygments<3.0.0,>=2.13.0 in c:\\users\\vinni\\anaconda3\\lib\\site-packages (from rich<14.0.0,>=13.8.1->together) (2.15.1)\n",
      "Requirement already satisfied: shellingham>=1.3.0 in c:\\users\\vinni\\anaconda3\\lib\\site-packages (from typer<0.16,>=0.9->together) (1.5.4)\n",
      "Requirement already satisfied: mdurl~=0.1 in c:\\users\\vinni\\anaconda3\\lib\\site-packages (from markdown-it-py>=2.2.0->rich<14.0.0,>=13.8.1->together) (0.1.0)\n",
      "Using cached together-1.4.1-py3-none-any.whl (80 kB)\n",
      "Using cached pydantic-2.10.6-py3-none-any.whl (431 kB)\n",
      "Using cached pydantic_core-2.27.2-cp312-cp312-win_amd64.whl (2.0 MB)\n",
      "Using cached typer-0.15.2-py3-none-any.whl (45 kB)\n",
      "Installing collected packages: pydantic-core, pydantic, typer, together\n",
      "  Attempting uninstall: pydantic-core\n",
      "    Found existing installation: pydantic_core 2.14.6\n",
      "    Uninstalling pydantic_core-2.14.6:\n",
      "      Successfully uninstalled pydantic_core-2.14.6\n",
      "  Attempting uninstall: pydantic\n",
      "    Found existing installation: pydantic 2.5.3\n",
      "    Uninstalling pydantic-2.5.3:\n",
      "      Successfully uninstalled pydantic-2.5.3\n",
      "Successfully installed pydantic-2.10.6 pydantic-core-2.27.2 together-1.4.1 typer-0.15.2\n",
      "Note: you may need to restart the kernel to use updated packages.\n"
     ]
    }
   ],
   "source": [
    "pip install together"
   ]
  },
  {
   "cell_type": "code",
   "execution_count": 2,
   "id": "e78665ec-905c-403a-8f58-37b87ed46773",
   "metadata": {},
   "outputs": [
    {
     "name": "stdout",
     "output_type": "stream",
     "text": [
      "Collecting langchain_togetherNote: you may need to restart the kernel to use updated packages.\n",
      "\n",
      "  Downloading langchain_together-0.3.0-py3-none-any.whl.metadata (1.9 kB)\n",
      "Requirement already satisfied: aiohttp<4.0.0,>=3.9.1 in c:\\users\\vinni\\anaconda3\\lib\\site-packages (from langchain_together) (3.9.5)\n",
      "Collecting langchain-core<0.4.0,>=0.3.29 (from langchain_together)\n",
      "  Downloading langchain_core-0.3.40-py3-none-any.whl.metadata (5.9 kB)\n",
      "Collecting langchain-openai<0.4,>=0.3 (from langchain_together)\n",
      "  Downloading langchain_openai-0.3.7-py3-none-any.whl.metadata (2.3 kB)\n",
      "Requirement already satisfied: requests<3,>=2 in c:\\users\\vinni\\anaconda3\\lib\\site-packages (from langchain_together) (2.32.2)\n",
      "Requirement already satisfied: aiosignal>=1.1.2 in c:\\users\\vinni\\anaconda3\\lib\\site-packages (from aiohttp<4.0.0,>=3.9.1->langchain_together) (1.2.0)\n",
      "Requirement already satisfied: attrs>=17.3.0 in c:\\users\\vinni\\anaconda3\\lib\\site-packages (from aiohttp<4.0.0,>=3.9.1->langchain_together) (23.1.0)\n",
      "Requirement already satisfied: frozenlist>=1.1.1 in c:\\users\\vinni\\anaconda3\\lib\\site-packages (from aiohttp<4.0.0,>=3.9.1->langchain_together) (1.4.0)\n",
      "Requirement already satisfied: multidict<7.0,>=4.5 in c:\\users\\vinni\\anaconda3\\lib\\site-packages (from aiohttp<4.0.0,>=3.9.1->langchain_together) (6.0.4)\n",
      "Requirement already satisfied: yarl<2.0,>=1.0 in c:\\users\\vinni\\anaconda3\\lib\\site-packages (from aiohttp<4.0.0,>=3.9.1->langchain_together) (1.9.3)\n",
      "Collecting langsmith<0.4,>=0.1.125 (from langchain-core<0.4.0,>=0.3.29->langchain_together)\n",
      "  Downloading langsmith-0.3.11-py3-none-any.whl.metadata (14 kB)\n",
      "Requirement already satisfied: tenacity!=8.4.0,<10.0.0,>=8.1.0 in c:\\users\\vinni\\anaconda3\\lib\\site-packages (from langchain-core<0.4.0,>=0.3.29->langchain_together) (8.2.2)\n",
      "Requirement already satisfied: jsonpatch<2.0,>=1.33 in c:\\users\\vinni\\anaconda3\\lib\\site-packages (from langchain-core<0.4.0,>=0.3.29->langchain_together) (1.33)\n",
      "Requirement already satisfied: PyYAML>=5.3 in c:\\users\\vinni\\anaconda3\\lib\\site-packages (from langchain-core<0.4.0,>=0.3.29->langchain_together) (6.0.1)\n",
      "Requirement already satisfied: packaging<25,>=23.2 in c:\\users\\vinni\\anaconda3\\lib\\site-packages (from langchain-core<0.4.0,>=0.3.29->langchain_together) (23.2)\n",
      "Requirement already satisfied: typing-extensions>=4.7 in c:\\users\\vinni\\anaconda3\\lib\\site-packages (from langchain-core<0.4.0,>=0.3.29->langchain_together) (4.12.2)\n",
      "Requirement already satisfied: pydantic<3.0.0,>=2.7.4 in c:\\users\\vinni\\anaconda3\\lib\\site-packages (from langchain-core<0.4.0,>=0.3.29->langchain_together) (2.10.6)\n",
      "Collecting openai<2.0.0,>=1.58.1 (from langchain-openai<0.4,>=0.3->langchain_together)\n",
      "  Downloading openai-1.65.2-py3-none-any.whl.metadata (27 kB)\n",
      "Collecting tiktoken<1,>=0.7 (from langchain-openai<0.4,>=0.3->langchain_together)\n",
      "  Downloading tiktoken-0.9.0-cp312-cp312-win_amd64.whl.metadata (6.8 kB)\n",
      "Requirement already satisfied: charset-normalizer<4,>=2 in c:\\users\\vinni\\anaconda3\\lib\\site-packages (from requests<3,>=2->langchain_together) (2.0.4)\n",
      "Requirement already satisfied: idna<4,>=2.5 in c:\\users\\vinni\\anaconda3\\lib\\site-packages (from requests<3,>=2->langchain_together) (3.7)\n",
      "Requirement already satisfied: urllib3<3,>=1.21.1 in c:\\users\\vinni\\anaconda3\\lib\\site-packages (from requests<3,>=2->langchain_together) (2.2.2)\n",
      "Requirement already satisfied: certifi>=2017.4.17 in c:\\users\\vinni\\anaconda3\\lib\\site-packages (from requests<3,>=2->langchain_together) (2024.7.4)\n",
      "Requirement already satisfied: jsonpointer>=1.9 in c:\\users\\vinni\\anaconda3\\lib\\site-packages (from jsonpatch<2.0,>=1.33->langchain-core<0.4.0,>=0.3.29->langchain_together) (2.1)\n",
      "Requirement already satisfied: httpx<1,>=0.23.0 in c:\\users\\vinni\\anaconda3\\lib\\site-packages (from langsmith<0.4,>=0.1.125->langchain-core<0.4.0,>=0.3.29->langchain_together) (0.26.0)\n",
      "Collecting orjson<4.0.0,>=3.9.14 (from langsmith<0.4,>=0.1.125->langchain-core<0.4.0,>=0.3.29->langchain_together)\n",
      "  Downloading orjson-3.10.15-cp312-cp312-win_amd64.whl.metadata (42 kB)\n",
      "     ---------------------------------------- 0.0/42.9 kB ? eta -:--:--\n",
      "     -------------------------------------- - 41.0/42.9 kB ? eta -:--:--\n",
      "     -------------------------------------- - 41.0/42.9 kB ? eta -:--:--\n",
      "     -------------------------------------- - 41.0/42.9 kB ? eta -:--:--\n",
      "     -------------------------------------- 42.9/42.9 kB 261.3 kB/s eta 0:00:00\n",
      "Requirement already satisfied: requests-toolbelt<2.0.0,>=1.0.0 in c:\\users\\vinni\\anaconda3\\lib\\site-packages (from langsmith<0.4,>=0.1.125->langchain-core<0.4.0,>=0.3.29->langchain_together) (1.0.0)\n",
      "Collecting zstandard<0.24.0,>=0.23.0 (from langsmith<0.4,>=0.1.125->langchain-core<0.4.0,>=0.3.29->langchain_together)\n",
      "  Downloading zstandard-0.23.0-cp312-cp312-win_amd64.whl.metadata (3.0 kB)\n",
      "Requirement already satisfied: anyio<5,>=3.5.0 in c:\\users\\vinni\\anaconda3\\lib\\site-packages (from openai<2.0.0,>=1.58.1->langchain-openai<0.4,>=0.3->langchain_together) (4.2.0)\n",
      "Requirement already satisfied: distro<2,>=1.7.0 in c:\\users\\vinni\\anaconda3\\lib\\site-packages (from openai<2.0.0,>=1.58.1->langchain-openai<0.4,>=0.3->langchain_together) (1.9.0)\n",
      "Collecting jiter<1,>=0.4.0 (from openai<2.0.0,>=1.58.1->langchain-openai<0.4,>=0.3->langchain_together)\n",
      "  Downloading jiter-0.8.2-cp312-cp312-win_amd64.whl.metadata (5.3 kB)\n",
      "Requirement already satisfied: sniffio in c:\\users\\vinni\\anaconda3\\lib\\site-packages (from openai<2.0.0,>=1.58.1->langchain-openai<0.4,>=0.3->langchain_together) (1.3.0)\n",
      "Requirement already satisfied: tqdm>4 in c:\\users\\vinni\\anaconda3\\lib\\site-packages (from openai<2.0.0,>=1.58.1->langchain-openai<0.4,>=0.3->langchain_together) (4.66.4)\n",
      "Requirement already satisfied: annotated-types>=0.6.0 in c:\\users\\vinni\\anaconda3\\lib\\site-packages (from pydantic<3.0.0,>=2.7.4->langchain-core<0.4.0,>=0.3.29->langchain_together) (0.6.0)\n",
      "Requirement already satisfied: pydantic-core==2.27.2 in c:\\users\\vinni\\anaconda3\\lib\\site-packages (from pydantic<3.0.0,>=2.7.4->langchain-core<0.4.0,>=0.3.29->langchain_together) (2.27.2)\n",
      "Requirement already satisfied: regex>=2022.1.18 in c:\\users\\vinni\\anaconda3\\lib\\site-packages (from tiktoken<1,>=0.7->langchain-openai<0.4,>=0.3->langchain_together) (2023.10.3)\n",
      "Requirement already satisfied: httpcore==1.* in c:\\users\\vinni\\anaconda3\\lib\\site-packages (from httpx<1,>=0.23.0->langsmith<0.4,>=0.1.125->langchain-core<0.4.0,>=0.3.29->langchain_together) (1.0.2)\n",
      "Requirement already satisfied: h11<0.15,>=0.13 in c:\\users\\vinni\\anaconda3\\lib\\site-packages (from httpcore==1.*->httpx<1,>=0.23.0->langsmith<0.4,>=0.1.125->langchain-core<0.4.0,>=0.3.29->langchain_together) (0.14.0)\n",
      "Requirement already satisfied: colorama in c:\\users\\vinni\\anaconda3\\lib\\site-packages (from tqdm>4->openai<2.0.0,>=1.58.1->langchain-openai<0.4,>=0.3->langchain_together) (0.4.6)\n",
      "Downloading langchain_together-0.3.0-py3-none-any.whl (12 kB)\n",
      "Downloading langchain_core-0.3.40-py3-none-any.whl (414 kB)\n",
      "   ---------------------------------------- 0.0/414.3 kB ? eta -:--:--\n",
      "   --------------------------------------- 414.3/414.3 kB 13.0 MB/s eta 0:00:00\n",
      "Downloading langchain_openai-0.3.7-py3-none-any.whl (55 kB)\n",
      "   ---------------------------------------- 0.0/55.3 kB ? eta -:--:--\n",
      "   ---------------------------------------- 55.3/55.3 kB ? eta 0:00:00\n",
      "Downloading langsmith-0.3.11-py3-none-any.whl (335 kB)\n",
      "   ---------------------------------------- 0.0/335.3 kB ? eta -:--:--\n",
      "   --------------------------------------- 335.3/335.3 kB 20.3 MB/s eta 0:00:00\n",
      "Downloading openai-1.65.2-py3-none-any.whl (473 kB)\n",
      "   ---------------------------------------- 0.0/473.2 kB ? eta -:--:--\n",
      "   --------------------------------------- 473.2/473.2 kB 14.9 MB/s eta 0:00:00\n",
      "Downloading tiktoken-0.9.0-cp312-cp312-win_amd64.whl (894 kB)\n",
      "   ---------------------------------------- 0.0/894.9 kB ? eta -:--:--\n",
      "   --------------------------------------  890.9/894.9 kB 28.4 MB/s eta 0:00:01\n",
      "   --------------------------------------- 894.9/894.9 kB 14.3 MB/s eta 0:00:00\n",
      "Downloading jiter-0.8.2-cp312-cp312-win_amd64.whl (204 kB)\n",
      "   ---------------------------------------- 0.0/204.7 kB ? eta -:--:--\n",
      "   --------------------------------------- 204.7/204.7 kB 12.2 MB/s eta 0:00:00\n",
      "Downloading orjson-3.10.15-cp312-cp312-win_amd64.whl (133 kB)\n",
      "   ---------------------------------------- 0.0/133.7 kB ? eta -:--:--\n",
      "   ---------------------------------------- 133.7/133.7 kB 4.0 MB/s eta 0:00:00\n",
      "Downloading zstandard-0.23.0-cp312-cp312-win_amd64.whl (495 kB)\n",
      "   ---------------------------------------- 0.0/495.6 kB ? eta -:--:--\n",
      "   --------------------------------------- 495.6/495.6 kB 15.2 MB/s eta 0:00:00\n",
      "Installing collected packages: zstandard, orjson, jiter, tiktoken, openai, langsmith, langchain-core, langchain-openai, langchain_together\n",
      "  Attempting uninstall: zstandard\n",
      "    Found existing installation: zstandard 0.22.0\n",
      "    Uninstalling zstandard-0.22.0:\n",
      "      Successfully uninstalled zstandard-0.22.0\n",
      "Successfully installed jiter-0.8.2 langchain-core-0.3.40 langchain-openai-0.3.7 langchain_together-0.3.0 langsmith-0.3.11 openai-1.65.2 orjson-3.10.15 tiktoken-0.9.0 zstandard-0.23.0\n"
     ]
    },
    {
     "name": "stderr",
     "output_type": "stream",
     "text": [
      "  WARNING: Failed to remove contents in a temporary directory 'C:\\Users\\VINNI\\anaconda3\\Lib\\site-packages\\~standard'.\n",
      "  You can safely remove it manually.\n"
     ]
    }
   ],
   "source": [
    "pip install langchain_together"
   ]
  },
  {
   "cell_type": "code",
   "execution_count": 5,
   "id": "c54bab12-52ec-41f6-8a99-869dfea8fb14",
   "metadata": {},
   "outputs": [],
   "source": [
    "from langchain_together import TogetherEmbeddings\n",
    "import pandas as pd\n",
    "import numpy as np"
   ]
  },
  {
   "cell_type": "code",
   "execution_count": 7,
   "id": "4affcc26-2835-4033-95ed-932c71d1d24d",
   "metadata": {},
   "outputs": [],
   "source": [
    "df = pd.read_excel(r\"C:\\Users\\VINNI\\OneDrive\\Desktop\\infosys internship\\reviews_data.xlsx\")\n"
   ]
  },
  {
   "cell_type": "code",
   "execution_count": 11,
   "id": "e7ed71d1-2cf4-4357-82d1-c9f27c3bbde1",
   "metadata": {},
   "outputs": [
    {
     "data": {
      "text/html": [
       "<div>\n",
       "<style scoped>\n",
       "    .dataframe tbody tr th:only-of-type {\n",
       "        vertical-align: middle;\n",
       "    }\n",
       "\n",
       "    .dataframe tbody tr th {\n",
       "        vertical-align: top;\n",
       "    }\n",
       "\n",
       "    .dataframe thead th {\n",
       "        text-align: right;\n",
       "    }\n",
       "</style>\n",
       "<table border=\"1\" class=\"dataframe\">\n",
       "  <thead>\n",
       "    <tr style=\"text-align: right;\">\n",
       "      <th></th>\n",
       "      <th>review_id</th>\n",
       "      <th>customer_id</th>\n",
       "      <th>review_date</th>\n",
       "      <th>Review</th>\n",
       "      <th>Rating</th>\n",
       "      <th>review_date_numeric</th>\n",
       "    </tr>\n",
       "  </thead>\n",
       "  <tbody>\n",
       "    <tr>\n",
       "      <th>0</th>\n",
       "      <td>11722</td>\n",
       "      <td>5380</td>\n",
       "      <td>2024-11-04</td>\n",
       "      <td>The room provided at first was a great disapp...</td>\n",
       "      <td>6.7</td>\n",
       "      <td>20241104</td>\n",
       "    </tr>\n",
       "    <tr>\n",
       "      <th>1</th>\n",
       "      <td>8604</td>\n",
       "      <td>8832</td>\n",
       "      <td>2024-03-01</td>\n",
       "      <td>The room wasn t so large for a Deluxe King bu...</td>\n",
       "      <td>9.6</td>\n",
       "      <td>20240301</td>\n",
       "    </tr>\n",
       "    <tr>\n",
       "      <th>2</th>\n",
       "      <td>3923</td>\n",
       "      <td>7301</td>\n",
       "      <td>2023-09-04</td>\n",
       "      <td>on arrival we had to wait over an hour after ...</td>\n",
       "      <td>7.1</td>\n",
       "      <td>20230904</td>\n",
       "    </tr>\n",
       "    <tr>\n",
       "      <th>3</th>\n",
       "      <td>10050</td>\n",
       "      <td>3968</td>\n",
       "      <td>2023-09-02</td>\n",
       "      <td>The room reminded me of a dorm room furnished...</td>\n",
       "      <td>7.9</td>\n",
       "      <td>20230902</td>\n",
       "    </tr>\n",
       "    <tr>\n",
       "      <th>4</th>\n",
       "      <td>2077</td>\n",
       "      <td>6085</td>\n",
       "      <td>2024-05-17</td>\n",
       "      <td>The room was very small the AC didn t work at...</td>\n",
       "      <td>8.8</td>\n",
       "      <td>20240517</td>\n",
       "    </tr>\n",
       "    <tr>\n",
       "      <th>...</th>\n",
       "      <td>...</td>\n",
       "      <td>...</td>\n",
       "      <td>...</td>\n",
       "      <td>...</td>\n",
       "      <td>...</td>\n",
       "      <td>...</td>\n",
       "    </tr>\n",
       "    <tr>\n",
       "      <th>8377</th>\n",
       "      <td>5928</td>\n",
       "      <td>1546</td>\n",
       "      <td>2023-04-30</td>\n",
       "      <td>Bathroom and toilet are small but spotlessly ...</td>\n",
       "      <td>10.0</td>\n",
       "      <td>20230430</td>\n",
       "    </tr>\n",
       "    <tr>\n",
       "      <th>8378</th>\n",
       "      <td>7439</td>\n",
       "      <td>4787</td>\n",
       "      <td>2024-01-30</td>\n",
       "      <td>Heating system in the room instructions on ho...</td>\n",
       "      <td>9.2</td>\n",
       "      <td>20240130</td>\n",
       "    </tr>\n",
       "    <tr>\n",
       "      <th>8379</th>\n",
       "      <td>339</td>\n",
       "      <td>4936</td>\n",
       "      <td>2024-10-11</td>\n",
       "      <td>Entering the hotel involved crossing an open ...</td>\n",
       "      <td>9.2</td>\n",
       "      <td>20241011</td>\n",
       "    </tr>\n",
       "    <tr>\n",
       "      <th>8380</th>\n",
       "      <td>6816</td>\n",
       "      <td>8542</td>\n",
       "      <td>2024-09-01</td>\n",
       "      <td>The hotel is very old Room are out of date an...</td>\n",
       "      <td>4.2</td>\n",
       "      <td>20240901</td>\n",
       "    </tr>\n",
       "    <tr>\n",
       "      <th>8381</th>\n",
       "      <td>3429</td>\n",
       "      <td>1971</td>\n",
       "      <td>2024-10-15</td>\n",
       "      <td>The staff members were very friendly and hel...</td>\n",
       "      <td>10.0</td>\n",
       "      <td>20241015</td>\n",
       "    </tr>\n",
       "  </tbody>\n",
       "</table>\n",
       "<p>8382 rows × 6 columns</p>\n",
       "</div>"
      ],
      "text/plain": [
       "      review_id  customer_id review_date  \\\n",
       "0         11722         5380  2024-11-04   \n",
       "1          8604         8832  2024-03-01   \n",
       "2          3923         7301  2023-09-04   \n",
       "3         10050         3968  2023-09-02   \n",
       "4          2077         6085  2024-05-17   \n",
       "...         ...          ...         ...   \n",
       "8377       5928         1546  2023-04-30   \n",
       "8378       7439         4787  2024-01-30   \n",
       "8379        339         4936  2024-10-11   \n",
       "8380       6816         8542  2024-09-01   \n",
       "8381       3429         1971  2024-10-15   \n",
       "\n",
       "                                                 Review  Rating  \\\n",
       "0      The room provided at first was a great disapp...     6.7   \n",
       "1      The room wasn t so large for a Deluxe King bu...     9.6   \n",
       "2      on arrival we had to wait over an hour after ...     7.1   \n",
       "3      The room reminded me of a dorm room furnished...     7.9   \n",
       "4      The room was very small the AC didn t work at...     8.8   \n",
       "...                                                 ...     ...   \n",
       "8377   Bathroom and toilet are small but spotlessly ...    10.0   \n",
       "8378   Heating system in the room instructions on ho...     9.2   \n",
       "8379   Entering the hotel involved crossing an open ...     9.2   \n",
       "8380   The hotel is very old Room are out of date an...     4.2   \n",
       "8381    The staff members were very friendly and hel...    10.0   \n",
       "\n",
       "      review_date_numeric  \n",
       "0                20241104  \n",
       "1                20240301  \n",
       "2                20230904  \n",
       "3                20230902  \n",
       "4                20240517  \n",
       "...                   ...  \n",
       "8377             20230430  \n",
       "8378             20240130  \n",
       "8379             20241011  \n",
       "8380             20240901  \n",
       "8381             20241015  \n",
       "\n",
       "[8382 rows x 6 columns]"
      ]
     },
     "execution_count": 11,
     "metadata": {},
     "output_type": "execute_result"
    }
   ],
   "source": [
    "df"
   ]
  },
  {
   "cell_type": "code",
   "execution_count": 13,
   "id": "62b86738-1d8f-4268-a1fb-b08f67ba9359",
   "metadata": {},
   "outputs": [],
   "source": [
    "import os\n",
    "import getpass\n",
    "if not os.getenv(\"TOGETHER_API_KEY\"):\n",
    "    os.environ[\"TOGETHER_API_KEY\"] = \"3f01b9d9ddce6978f90d9daffd9b801f13f517267587cf9c736a1ffe6a60ba5f\"\n",
    "\n",
    "# Initialize the TogetherEmbeddings model\n",
    "embeddings = TogetherEmbeddings(\n",
    "    model=\"togethercomputer/m2-bert-80M-8k-retrieval\"  # Example model; check docs for Llama-based alternatives\n",
    ")"
   ]
  },
  {
   "cell_type": "code",
   "execution_count": 15,
   "id": "6cc2b5c4-ad45-438c-a646-4f0fecc91c6b",
   "metadata": {},
   "outputs": [
    {
     "name": "stdout",
     "output_type": "stream",
     "text": [
      "Collecting pinecone\n",
      "  Downloading pinecone-6.0.1-py3-none-any.whl.metadata (8.8 kB)\n",
      "Requirement already satisfied: certifi>=2019.11.17 in c:\\users\\vinni\\anaconda3\\lib\\site-packages (from pinecone) (2024.7.4)\n",
      "Collecting pinecone-plugin-interface<0.0.8,>=0.0.7 (from pinecone)\n",
      "  Downloading pinecone_plugin_interface-0.0.7-py3-none-any.whl.metadata (1.2 kB)\n",
      "Requirement already satisfied: python-dateutil>=2.5.3 in c:\\users\\vinni\\anaconda3\\lib\\site-packages (from pinecone) (2.9.0.post0)\n",
      "Requirement already satisfied: typing-extensions>=3.7.4 in c:\\users\\vinni\\anaconda3\\lib\\site-packages (from pinecone) (4.12.2)\n",
      "Requirement already satisfied: urllib3>=1.26.5 in c:\\users\\vinni\\anaconda3\\lib\\site-packages (from pinecone) (2.2.2)\n",
      "Requirement already satisfied: six>=1.5 in c:\\users\\vinni\\anaconda3\\lib\\site-packages (from python-dateutil>=2.5.3->pinecone) (1.16.0)\n",
      "Downloading pinecone-6.0.1-py3-none-any.whl (421 kB)\n",
      "   ---------------------------------------- 0.0/421.4 kB ? eta -:--:--\n",
      "   -- ------------------------------------ 30.7/421.4 kB 660.6 kB/s eta 0:00:01\n",
      "   ---------------------------------------- 421.4/421.4 kB 5.3 MB/s eta 0:00:00\n",
      "Downloading pinecone_plugin_interface-0.0.7-py3-none-any.whl (6.2 kB)\n",
      "Installing collected packages: pinecone-plugin-interface, pinecone\n",
      "Successfully installed pinecone-6.0.1 pinecone-plugin-interface-0.0.7\n",
      "Note: you may need to restart the kernel to use updated packages.\n"
     ]
    }
   ],
   "source": [
    "pip install pinecone"
   ]
  },
  {
   "cell_type": "code",
   "execution_count": 17,
   "id": "2d07ea3e-973b-4ba6-bf1c-9e4de5ab3e87",
   "metadata": {},
   "outputs": [
    {
     "name": "stdout",
     "output_type": "stream",
     "text": [
      "Processed 128 / 8382 reviews\n",
      "Processed 256 / 8382 reviews\n",
      "Processed 384 / 8382 reviews\n",
      "Processed 512 / 8382 reviews\n",
      "Processed 640 / 8382 reviews\n",
      "Processed 768 / 8382 reviews\n",
      "Processed 896 / 8382 reviews\n",
      "Processed 1024 / 8382 reviews\n",
      "Processed 1152 / 8382 reviews\n",
      "Processed 1280 / 8382 reviews\n",
      "Processed 1408 / 8382 reviews\n",
      "Processed 1536 / 8382 reviews\n",
      "Processed 1664 / 8382 reviews\n",
      "Processed 1792 / 8382 reviews\n",
      "Processed 1920 / 8382 reviews\n",
      "Processed 2048 / 8382 reviews\n",
      "Processed 2176 / 8382 reviews\n",
      "Processed 2304 / 8382 reviews\n",
      "Processed 2432 / 8382 reviews\n",
      "Processed 2560 / 8382 reviews\n",
      "Processed 2688 / 8382 reviews\n",
      "Processed 2816 / 8382 reviews\n",
      "Processed 2944 / 8382 reviews\n",
      "Processed 3072 / 8382 reviews\n",
      "Processed 3200 / 8382 reviews\n",
      "Processed 3328 / 8382 reviews\n",
      "Processed 3456 / 8382 reviews\n",
      "Processed 3584 / 8382 reviews\n",
      "Processed 3712 / 8382 reviews\n",
      "Processed 3840 / 8382 reviews\n",
      "Processed 3968 / 8382 reviews\n",
      "Processed 4096 / 8382 reviews\n",
      "Processed 4224 / 8382 reviews\n",
      "Processed 4352 / 8382 reviews\n",
      "Processed 4480 / 8382 reviews\n",
      "Processed 4608 / 8382 reviews\n",
      "Processed 4736 / 8382 reviews\n",
      "Processed 4864 / 8382 reviews\n",
      "Processed 4992 / 8382 reviews\n",
      "Processed 5120 / 8382 reviews\n",
      "Processed 5248 / 8382 reviews\n",
      "Processed 5376 / 8382 reviews\n",
      "Processed 5504 / 8382 reviews\n",
      "Processed 5632 / 8382 reviews\n",
      "Processed 5760 / 8382 reviews\n",
      "Processed 5888 / 8382 reviews\n",
      "Processed 6016 / 8382 reviews\n",
      "Processed 6144 / 8382 reviews\n",
      "Processed 6272 / 8382 reviews\n",
      "Processed 6400 / 8382 reviews\n",
      "Processed 6528 / 8382 reviews\n",
      "Processed 6656 / 8382 reviews\n",
      "Processed 6784 / 8382 reviews\n",
      "Processed 6912 / 8382 reviews\n",
      "Processed 7040 / 8382 reviews\n",
      "Processed 7168 / 8382 reviews\n",
      "Processed 7296 / 8382 reviews\n",
      "Processed 7424 / 8382 reviews\n",
      "Processed 7552 / 8382 reviews\n",
      "Processed 7680 / 8382 reviews\n",
      "Processed 7808 / 8382 reviews\n",
      "Processed 7936 / 8382 reviews\n",
      "Processed 8064 / 8382 reviews\n",
      "Processed 8192 / 8382 reviews\n",
      "Processed 8320 / 8382 reviews\n",
      "Processed 8382 / 8382 reviews\n"
     ]
    }
   ],
   "source": [
    "reviews = df[\"Review\"].tolist()\n",
    "\n",
    "# Process embeddings in batches\n",
    "embedding_list = []\n",
    "for i in range(0, len(reviews), 128):\n",
    "    batch = reviews[i : i + 128]  # Get batch\n",
    "    batch_embeddings = embeddings.embed_documents(batch)  # Generate embeddings for batch\n",
    "    embedding_list.extend(batch_embeddings)  # Store results\n",
    "    print(f\"Processed {i + len(batch)} / {len(reviews)} reviews\")"
   ]
  },
  {
   "cell_type": "code",
   "execution_count": 23,
   "id": "a20248b5-d03a-47b2-bd43-9e5650d0678b",
   "metadata": {},
   "outputs": [],
   "source": [
    "metadata_list = df.apply(lambda row: {\n",
    "    \"customer_id\": int(row[\"customer_id\"]),\n",
    "    \"review_date\": row[\"review_date_numeric\"],\n",
    "    \"Rating\": int(row[\"Rating\"]),\n",
    "    \"review_id\":row['review_id']\n",
    "}, axis=1).tolist()"
   ]
  },
  {
   "cell_type": "code",
   "execution_count": 25,
   "id": "762dc1f6-85ea-4cd4-8ab0-935d96614341",
   "metadata": {},
   "outputs": [
    {
     "data": {
      "text/plain": [
       "{'customer_id': 5380, 'review_date': 20241104, 'Rating': 6, 'review_id': 11722}"
      ]
     },
     "execution_count": 25,
     "metadata": {},
     "output_type": "execute_result"
    }
   ],
   "source": [
    "metadata_list[0]"
   ]
  },
  {
   "cell_type": "code",
   "execution_count": 27,
   "id": "762d089b-bbc1-490d-bcb2-e5190b65d953",
   "metadata": {},
   "outputs": [],
   "source": [
    "from pinecone import Pinecone, ServerlessSpec\n",
    "\n",
    "pc = Pinecone(\n",
    "    api_key='pcsk_7Syt4B_2MSNqwKrW1cdtjUTR7ukDQXCQc481bmu5o9FFYDFfwefHXLJxf2XghRFWvSEY9g'\n",
    ")"
   ]
  },
  {
   "cell_type": "code",
   "execution_count": 31,
   "id": "56d10c6f-208e-4966-8daf-b899ac72261f",
   "metadata": {},
   "outputs": [
    {
     "data": {
      "text/plain": [
       "[]"
      ]
     },
     "execution_count": 31,
     "metadata": {},
     "output_type": "execute_result"
    }
   ],
   "source": [
    "pc.list_indexes()"
   ]
  },
  {
   "cell_type": "code",
   "execution_count": 33,
   "id": "54601a6d-43f1-4f34-9645-cef3a15cd3ae",
   "metadata": {},
   "outputs": [
    {
     "data": {
      "text/plain": [
       "{\n",
       "    \"name\": \"hotel-reviews\",\n",
       "    \"metric\": \"cosine\",\n",
       "    \"host\": \"hotel-reviews-woqlw1a.svc.aped-4627-b74a.pinecone.io\",\n",
       "    \"spec\": {\n",
       "        \"serverless\": {\n",
       "            \"cloud\": \"aws\",\n",
       "            \"region\": \"us-east-1\"\n",
       "        }\n",
       "    },\n",
       "    \"status\": {\n",
       "        \"ready\": true,\n",
       "        \"state\": \"Ready\"\n",
       "    },\n",
       "    \"vector_type\": \"dense\",\n",
       "    \"dimension\": 768,\n",
       "    \"deletion_protection\": \"enabled\",\n",
       "    \"tags\": null\n",
       "}"
      ]
     },
     "execution_count": 33,
     "metadata": {},
     "output_type": "execute_result"
    }
   ],
   "source": [
    "pc.create_index(\n",
    "    name='hotel-reviews',\n",
    "    dimension=768,\n",
    "    metric='cosine',\n",
    "    deletion_protection='enabled',\n",
    "    spec=ServerlessSpec(\n",
    "        cloud='aws',\n",
    "        region='us-east-1'\n",
    "    )\n",
    ")"
   ]
  },
  {
   "cell_type": "code",
   "execution_count": 41,
   "id": "002d3af7-b75c-4a7b-909a-def9fd9ee66e",
   "metadata": {},
   "outputs": [],
   "source": [
    "index = pc.Index(host=\"https://hotel-reviews-woqlw1a.svc.aped-4627-b74a.pinecone.io\")"
   ]
  },
  {
   "cell_type": "code",
   "execution_count": 43,
   "id": "67ff4c04-349f-4550-84aa-0d4418c4e3f3",
   "metadata": {},
   "outputs": [],
   "source": [
    "vectors = [\n",
    "    (str(i), embedding, metadata_list[i])\n",
    "    for i, embedding in enumerate(embedding_list)\n",
    "]"
   ]
  },
  {
   "cell_type": "code",
   "execution_count": 45,
   "id": "3d073a6b-4638-4657-a310-8b3c748bc797",
   "metadata": {},
   "outputs": [
    {
     "name": "stdout",
     "output_type": "stream",
     "text": [
      "Upserted batch from 0 to 100\n",
      "Upserted batch from 100 to 200\n",
      "Upserted batch from 200 to 300\n",
      "Upserted batch from 300 to 400\n",
      "Upserted batch from 400 to 500\n",
      "Upserted batch from 500 to 600\n",
      "Upserted batch from 600 to 700\n",
      "Upserted batch from 700 to 800\n",
      "Upserted batch from 800 to 900\n",
      "Upserted batch from 900 to 1000\n",
      "Upserted batch from 1000 to 1100\n",
      "Upserted batch from 1100 to 1200\n",
      "Upserted batch from 1200 to 1300\n",
      "Upserted batch from 1300 to 1400\n",
      "Upserted batch from 1400 to 1500\n",
      "Upserted batch from 1500 to 1600\n",
      "Upserted batch from 1600 to 1700\n",
      "Upserted batch from 1700 to 1800\n",
      "Upserted batch from 1800 to 1900\n",
      "Upserted batch from 1900 to 2000\n",
      "Upserted batch from 2000 to 2100\n",
      "Upserted batch from 2100 to 2200\n",
      "Upserted batch from 2200 to 2300\n",
      "Upserted batch from 2300 to 2400\n",
      "Upserted batch from 2400 to 2500\n",
      "Upserted batch from 2500 to 2600\n",
      "Upserted batch from 2600 to 2700\n",
      "Upserted batch from 2700 to 2800\n",
      "Upserted batch from 2800 to 2900\n",
      "Upserted batch from 2900 to 3000\n",
      "Upserted batch from 3000 to 3100\n",
      "Upserted batch from 3100 to 3200\n",
      "Upserted batch from 3200 to 3300\n",
      "Upserted batch from 3300 to 3400\n",
      "Upserted batch from 3400 to 3500\n",
      "Upserted batch from 3500 to 3600\n",
      "Upserted batch from 3600 to 3700\n",
      "Upserted batch from 3700 to 3800\n",
      "Upserted batch from 3800 to 3900\n",
      "Upserted batch from 3900 to 4000\n",
      "Upserted batch from 4000 to 4100\n",
      "Upserted batch from 4100 to 4200\n",
      "Upserted batch from 4200 to 4300\n",
      "Upserted batch from 4300 to 4400\n",
      "Upserted batch from 4400 to 4500\n",
      "Upserted batch from 4500 to 4600\n",
      "Upserted batch from 4600 to 4700\n",
      "Upserted batch from 4700 to 4800\n",
      "Upserted batch from 4800 to 4900\n",
      "Upserted batch from 4900 to 5000\n",
      "Upserted batch from 5000 to 5100\n",
      "Upserted batch from 5100 to 5200\n",
      "Upserted batch from 5200 to 5300\n",
      "Upserted batch from 5300 to 5400\n",
      "Upserted batch from 5400 to 5500\n",
      "Upserted batch from 5500 to 5600\n",
      "Upserted batch from 5600 to 5700\n",
      "Upserted batch from 5700 to 5800\n",
      "Upserted batch from 5800 to 5900\n",
      "Upserted batch from 5900 to 6000\n",
      "Upserted batch from 6000 to 6100\n",
      "Upserted batch from 6100 to 6200\n",
      "Upserted batch from 6200 to 6300\n",
      "Upserted batch from 6300 to 6400\n",
      "Upserted batch from 6400 to 6500\n",
      "Upserted batch from 6500 to 6600\n",
      "Upserted batch from 6600 to 6700\n",
      "Upserted batch from 6700 to 6800\n",
      "Upserted batch from 6800 to 6900\n",
      "Upserted batch from 6900 to 7000\n",
      "Upserted batch from 7000 to 7100\n",
      "Upserted batch from 7100 to 7200\n",
      "Upserted batch from 7200 to 7300\n",
      "Upserted batch from 7300 to 7400\n",
      "Upserted batch from 7400 to 7500\n",
      "Upserted batch from 7500 to 7600\n",
      "Upserted batch from 7600 to 7700\n",
      "Upserted batch from 7700 to 7800\n",
      "Upserted batch from 7800 to 7900\n",
      "Upserted batch from 7900 to 8000\n",
      "Upserted batch from 8000 to 8100\n",
      "Upserted batch from 8100 to 8200\n",
      "Upserted batch from 8200 to 8300\n",
      "Upserted batch from 8300 to 8382\n"
     ]
    }
   ],
   "source": [
    "batch_size = 100  # Adjust this number as needed.\n",
    "\n",
    "for i in range(0, len(embedding_list), batch_size):\n",
    "    batch_vectors = [\n",
    "        (str(i + j), embedding_list[i + j], metadata_list[i + j])\n",
    "        for j in range(min(batch_size, len(embedding_list) - i))\n",
    "    ]\n",
    "    index.upsert(vectors=batch_vectors)\n",
    "    print(f\"Upserted batch from {i} to {i + len(batch_vectors)}\")"
   ]
  },
  {
   "cell_type": "code",
   "execution_count": 65,
   "id": "2de289ce-7ba2-40a1-9eff-294d754f4c90",
   "metadata": {},
   "outputs": [],
   "source": [
    "query_embedding = embeddings.embed_query(\"Mention reviews that are about cleanliness and staff behavior.\")"
   ]
  },
  {
   "cell_type": "code",
   "execution_count": 67,
   "id": "d132ce61-07d1-4dd8-b13c-883b9efd1f23",
   "metadata": {},
   "outputs": [],
   "source": [
    "results = index.query(\n",
    "    vector=query_embedding,\n",
    "    top_k=5,\n",
    "    namespace=\"\",\n",
    "    include_metadata=True,\n",
    "    filter={\n",
    "        \"Rating\": {\"$lte\": 9},\n",
    "        \"review_date\": {\"$gte\": 20240101, \"$lte\": 20240108}\n",
    "    }\n",
    ")"
   ]
  },
  {
   "cell_type": "code",
   "execution_count": 69,
   "id": "51ab8627-ddc4-4d0b-b3af-0fdc6c35fa1e",
   "metadata": {},
   "outputs": [],
   "source": [
    "matches = results[\"matches\"]\n",
    "\n",
    "# Extract review_ids from the matches (convert them to int if necessary)\n",
    "matched_ids = [int(match[\"metadata\"][\"review_id\"]) for match in matches]"
   ]
  },
  {
   "cell_type": "code",
   "execution_count": 71,
   "id": "a0c58127-c951-4ad7-8abc-920a5f150944",
   "metadata": {},
   "outputs": [
    {
     "data": {
      "text/plain": [
       "[17, 9643, 7810, 11167, 4731]"
      ]
     },
     "execution_count": 71,
     "metadata": {},
     "output_type": "execute_result"
    }
   ],
   "source": [
    "matched_ids"
   ]
  },
  {
   "cell_type": "code",
   "execution_count": 73,
   "id": "003339c6-7909-4bf4-a18b-ef118a50f838",
   "metadata": {},
   "outputs": [],
   "source": [
    "req_df = df[df[\"review_id\"].isin(matched_ids)]"
   ]
  },
  {
   "cell_type": "code",
   "execution_count": 75,
   "id": "bb96dd50-5c82-47eb-affd-93547f334ef6",
   "metadata": {},
   "outputs": [
    {
     "data": {
      "text/plain": [
       "3716     Although they were very nice and did their jo...\n",
       "5790     The reception wasn t as clean and crisp as wh...\n",
       "7160     The toilet flusher always got stuck when pres...\n",
       "7382     Tried to check into our room at 2 15 pm and w...\n",
       "8142     I know the maid came in and made the bed and ...\n",
       "Name: Review, dtype: object"
      ]
     },
     "execution_count": 75,
     "metadata": {},
     "output_type": "execute_result"
    }
   ],
   "source": [
    "req_df['Review']"
   ]
  },
  {
   "cell_type": "code",
   "execution_count": 77,
   "id": "61f95008-0d5b-4b9e-b5d8-3b29d6e85ae3",
   "metadata": {},
   "outputs": [],
   "source": [
    "concatenated_reviews = \" \".join(req_df[\"Review\"].tolist())"
   ]
  },
  {
   "cell_type": "code",
   "execution_count": 79,
   "id": "df4105ff-2109-4d4e-9e70-b8a5c6554ea9",
   "metadata": {},
   "outputs": [
    {
     "data": {
      "text/plain": [
       "' Although they were very nice and did their job well the room service cleaning service was aggressive and overbearing They start cleaning very early in the morning and if you forget to put the don t disturb sign on the knob they ll wake you up and try to come in One time the cleaner was waiting outside our door when we left for breakfast and asked us to clean the room even though we were only going to be downstairs for 15 minutes or so I felt pressured to allow them to clean There is also someone who comes around 7pm to close the curtains leave apples and prepare the beds for sleeping and although I guess they mean that as an extra touch it feels quite invasive They also knock several times and try to come in which almost lead to a situation where the person walked in on me having a shower Speaking of which the bathroom is unfit for seniors as the bathtub is very high hard to get into and out of and water from the shower gets outside and floods the bathroom even if you re careful   The hotel is in a very nice neighborhood with quiet streets all around There are some nice parks close by and good restaurants within walking distance It s far from the hustle and bustle of the city center but there are tram lines within a 5 minute walk that will take you there in 20 min or less so it was definitely a very good location The staff at the front desk was always very pleasant and attentive going above and beyond to help you with all your needs   The reception wasn t as clean and crisp as what the photos show The lift is also TINY and quite slow so pack light as you don t want to be doing multiple trips   The view from our room was incredible The bed was very comfortable and the decor was interesting at first but I loved it when I jumped into bed Great idea   The toilet flusher always got stuck when pressed and it was troublesome to always spend a couple extra minutes in the bathroom trying to get it unstuck The furniture was a bit weathered e g cigarette burns on the sofa At check in we were ask whether we d liked to pay upfront or upon checkout Opting to pay at checkout we were asked for the card and they reserved the whole amount on it no PIN number required on a PIN and chip card This rendered the whole sum unavailable on the card At checkout all they had to do was press a button on their side and the sum was withdrawn from the account Essentially we paid at check in with no PIN number confirmation even though we had opted to pay at checkout This felt fishy Fortunately we had no issue because of it but it did not feel very secure straightforward nor trustworthy   A bus ride or 30 minute walk away from the city center Very comfortable bed Quiet and clean Spacious room Safe box in the room  Tried to check into our room at 2 15 pm and was told that we couldn t for at least 45 mins We had plans and these were sadly ruined because we were unable to change and shower in our room which we had paid for to check in at 2 00 pm We weren t even given a courtesy refund or the opportunity to stay an extra hour the following day Very disappointing   Location was good  I know the maid came in and made the bed and cleaned the bathroom but the room was never swept mopped or vacuumed not sure how you clean the floors the dust and hair was never cleaned up and there were never any extra towels in the bathroom like I requested in my reservation I also did not like the fact that the iron and ironing board had to go back every time I finished there should be one in each room and I did not like that I had to leave my room key every time I left   The breakfast was very nice and the bed was really comfy The location of the hotel was easily accessed by foot but did not seem so by taxi the area was clean and safe to walk '"
      ]
     },
     "execution_count": 79,
     "metadata": {},
     "output_type": "execute_result"
    }
   ],
   "source": [
    "concatenated_reviews"
   ]
  },
  {
   "cell_type": "code",
   "execution_count": 81,
   "id": "c85d40e1-768e-4a6c-8313-dc7abf615bd1",
   "metadata": {},
   "outputs": [
    {
     "name": "stdout",
     "output_type": "stream",
     "text": [
      "The overall sentiment of customers about the food and restaurant is largely positive, with several customers mentioning that the breakfast was \"very nice\". However, there are a few mentions of issues with the room service, including an overbearing cleaning service that invades guests' privacy and a lack of attention to cleaning certain areas of the room, such as the floors.\n",
      "\n",
      "The general sentiment about the hotel's staff and amenities is mixed. Some customers praise the friendly and attentive staff at the front desk, while others mention issues with the cleanliness of the reception area and the tiny, slow elevator.\n",
      "\n",
      "The hotel's location is a common point of praise, with customers mentioning the quiet neighborhood, proximity to parks and good restaurants, and easy access to public transportation.\n",
      "\n",
      "Some common complaints about the hotel include:\n",
      "\n",
      "* Aggressive and overbearing room service\n",
      "* Poor cleaning standards, particularly with regard to floors and dusting\n",
      "* Inconvenient or untrustworthy payment processes\n",
      "* Uncomfortable or poorly designed bathrooms\n",
      "* Tiny and slow elevator\n",
      "\n",
      "However, some customers also mention positive aspects, such as:\n",
      "\n",
      "* Comfortable beds\n",
      "* Spacious rooms\n",
      "* Quiet and clean environment\n",
      "* Good breakfast options\n",
      "* Friendly and attentive staff\n"
     ]
    }
   ],
   "source": [
    "from together import Together\n",
    "import os\n",
    "client = Together()\n",
    "response = client.chat.completions.create(\n",
    "    model=\"meta-llama/Llama-Vision-Free\",\n",
    "    messages = [{\"role\": \"user\", \"content\": f\"\"\"Briefly Summarize the overall sentiment of customers about food and restaurant based on these reviews - {\n",
    "    concatenated_reviews}. Dont mention the name of the hotel\"\"\"}]\n",
    ")\n",
    "print(response.choices[0].message.content)\n"
   ]
  },
  {
   "cell_type": "code",
   "execution_count": null,
   "id": "1138d8ea-7c1c-487b-aa6b-056b62036c32",
   "metadata": {},
   "outputs": [],
   "source": []
  }
 ],
 "metadata": {
  "kernelspec": {
   "display_name": "Python 3 (ipykernel)",
   "language": "python",
   "name": "python3"
  },
  "language_info": {
   "codemirror_mode": {
    "name": "ipython",
    "version": 3
   },
   "file_extension": ".py",
   "mimetype": "text/x-python",
   "name": "python",
   "nbconvert_exporter": "python",
   "pygments_lexer": "ipython3",
   "version": "3.12.4"
  }
 },
 "nbformat": 4,
 "nbformat_minor": 5
}
